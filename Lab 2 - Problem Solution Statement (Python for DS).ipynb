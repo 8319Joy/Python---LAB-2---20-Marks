{
 "cells": [
  {
   "cell_type": "markdown",
   "id": "1bd3906b",
   "metadata": {
    "id": "1bd3906b"
   },
   "source": [
    "## Lab Session "
   ]
  },
  {
   "cell_type": "markdown",
   "id": "ccfb2855",
   "metadata": {
    "id": "ccfb2855"
   },
   "source": [
    "### Learning Objective:\n",
    "- Working with data using python libaries.\n",
    "- Data Visualization.\n",
    "- Exploratory data analysis and data preprocessing.\n",
    "- Building a Linear regression model to predict the tip amount based on different input features."
   ]
  },
  {
   "cell_type": "markdown",
   "id": "61ef0de3",
   "metadata": {
    "id": "61ef0de3"
   },
   "source": [
    "### About the dataset (Customer Tip Data)\n",
    "\n",
    "#### Dataset Source: https://www.kaggle.com/datasets/ranjeetjain3/seaborn-tips-dataset\n",
    "\n",
    "The dataset contains information about the 244 orders served at a restaurant in the United States. Each observation includes the factors related to the order like total bill, time, the total number of people in a group, gender of the person paying for the order and so on.\n",
    "\n",
    "#### Attribute Information:\n",
    "\n",
    "- **total_bill:** Total bill (cost of the meal), including tax, in US dollars\n",
    "- **tip:** Tip in US dollars\n",
    "- **sex:** Sex of person paying for the meal\n",
    "- **smoker:** There is a smoker in a group or not\n",
    "- **day:** Day on which the order is served\n",
    "- **time:** Time of the order\n",
    "- **size:** Size of the group\n",
    "\n",
    "Food servers’ tips in restaurants may be influenced by many factors, including the nature of the restaurant, size of the party, and table locations in the restaurant. Restaurant managers need to know which factors matter when they assign tables to food servers. For the sake of staff morale, they usually want to avoid either the substance or the appearance of unfair\n",
    "treatment of the servers, for whom tips (at least in restaurants in the UnitedStates) are a major component of pay."
   ]
  },
  {
   "cell_type": "markdown",
   "id": "e4e44e06",
   "metadata": {
    "id": "e4e44e06"
   },
   "source": [
    "### Import required libraries"
   ]
  },
  {
   "cell_type": "code",
   "execution_count": 1,
   "id": "89b9d6d7",
   "metadata": {
    "id": "89b9d6d7"
   },
   "outputs": [],
   "source": [
    "# For data manipulation and analysis\n",
    "import numpy as np\n",
    "import pandas as pd\n",
    "\n",
    "# For data visualization\n",
    "import matplotlib.pyplot as plt\n",
    "import seaborn as sns\n",
    "\n",
    "# For machine learning and data processing\n",
    "from sklearn.model_selection import train_test_split\n",
    "from sklearn.preprocessing import StandardScaler\n",
    "from sklearn.linear_model import LinearRegression, LogisticRegression\n",
    "from sklearn.tree import DecisionTreeClassifier, DecisionTreeRegressor\n",
    "from sklearn.ensemble import RandomForestClassifier, RandomForestRegressor\n",
    "from sklearn.metrics import accuracy_score, confusion_matrix, classification_report, mean_squared_error, r2_score\n",
    "\n",
    "# For natural language processing\n",
    "import nltk\n",
    "from nltk.corpus import stopwords\n",
    "from nltk.tokenize import word_tokenize\n",
    "from nltk.stem import WordNetLemmatizer\n",
    "\n",
    "# For web scraping\n",
    "import requests\n",
    "from bs4 import BeautifulSoup\n",
    "\n",
    "# For working with dates and times\n",
    "from datetime import datetime\n",
    "\n",
    "# For handling JSON data\n",
    "import json\n",
    "\n",
    "# For interacting with databases\n",
    "import sqlite3\n",
    "\n",
    "# For working with images\n",
    "from PIL import Image\n",
    "\n",
    "# For regular expressions\n",
    "import re\n",
    "\n",
    "# For accessing operating system functionalities\n",
    "import os\n",
    "\n",
    "# For handling files and directories\n",
    "import glob\n",
    "\n",
    "# For mathematical operations\n",
    "import math\n",
    "\n",
    "# For handling exceptions\n",
    "import traceback\n",
    "\n",
    "# For working with regular expressions\n",
    "import re\n",
    "\n",
    "# For working with Excel files\n",
    "import openpyxl\n",
    "\n",
    "# For handling CSV files\n",
    "import csv\n"
   ]
  },
  {
   "cell_type": "markdown",
   "id": "9ead3dea",
   "metadata": {
    "id": "9ead3dea"
   },
   "source": [
    "### Load the dataset"
   ]
  },
  {
   "cell_type": "code",
   "execution_count": 10,
   "id": "a9ba115f",
   "metadata": {
    "id": "a9ba115f"
   },
   "outputs": [],
   "source": [
    "import pandas as pd\n",
    "\n",
    "# Load the dataset into a pandas DataFrame\n",
    "df = pd.read_csv(r'C:\\Users\\PURNANGSHU ROY\\OneDrive\\Desktop\\data\\tips.csv')\n"
   ]
  },
  {
   "cell_type": "markdown",
   "id": "42cd8e14",
   "metadata": {
    "id": "42cd8e14"
   },
   "source": [
    "### 1. Make a list of categorical and numerical columns in the data."
   ]
  },
  {
   "cell_type": "code",
   "execution_count": 9,
   "id": "abc60524",
   "metadata": {
    "id": "abc60524"
   },
   "outputs": [
    {
     "name": "stdout",
     "output_type": "stream",
     "text": [
      "Categorical Columns:\n",
      "['sex', 'smoker', 'day', 'time']\n",
      "\n",
      "Numerical Columns:\n",
      "['total_bill', 'tip', 'size']\n"
     ]
    }
   ],
   "source": [
    "import pandas as pd\n",
    "\n",
    "# Load the dataset into a pandas DataFrame\n",
    "df = pd.read_csv(r'C:\\Users\\PURNANGSHU ROY\\OneDrive\\Desktop\\data\\tips.csv')\n",
    "\n",
    "# Get the list of categorical columns\n",
    "categorical_columns = df.select_dtypes(include=['object']).columns.tolist()\n",
    "\n",
    "# Get the list of numerical columns\n",
    "numerical_columns = df.select_dtypes(include=['float64', 'int64']).columns.tolist()\n",
    "\n",
    "print(\"Categorical Columns:\")\n",
    "print(categorical_columns)\n",
    "print(\"\\nNumerical Columns:\")\n",
    "print(numerical_columns)\n"
   ]
  },
  {
   "cell_type": "markdown",
   "id": "41ef8841",
   "metadata": {
    "id": "41ef8841"
   },
   "source": [
    "### 2. Compute the average bill amount for each day."
   ]
  },
  {
   "cell_type": "code",
   "execution_count": 10,
   "id": "75b5c0f2",
   "metadata": {
    "id": "75b5c0f2"
   },
   "outputs": [
    {
     "name": "stdout",
     "output_type": "stream",
     "text": [
      "Average bill amount for each day:\n",
      "day\n",
      "Fri     17.151579\n",
      "Sat     20.441379\n",
      "Sun     21.410000\n",
      "Thur    17.682742\n",
      "Name: total_bill, dtype: float64\n"
     ]
    }
   ],
   "source": [
    "import pandas as pd\n",
    "\n",
    "# Load the dataset into a pandas DataFrame\n",
    "df = pd.read_csv(r'C:\\Users\\PURNANGSHU ROY\\OneDrive\\Desktop\\data\\tips.csv')\n",
    "\n",
    "# Compute the average bill amount for each day\n",
    "average_bill_per_day = df.groupby('day')['total_bill'].mean()\n",
    "\n",
    "print(\"Average bill amount for each day:\")\n",
    "print(average_bill_per_day)\n"
   ]
  },
  {
   "cell_type": "markdown",
   "id": "18894954",
   "metadata": {
    "id": "18894954"
   },
   "source": [
    "### 3. Which gender is more generous in giving tips?"
   ]
  },
  {
   "cell_type": "code",
   "execution_count": 11,
   "id": "f506a83a",
   "metadata": {
    "id": "f506a83a"
   },
   "outputs": [
    {
     "name": "stdout",
     "output_type": "stream",
     "text": [
      "Average tip amount for each gender:\n",
      "sex\n",
      "Female    2.833448\n",
      "Male      3.089618\n",
      "Name: tip, dtype: float64\n"
     ]
    }
   ],
   "source": [
    "import pandas as pd\n",
    "\n",
    "# Load the dataset into a pandas DataFrame\n",
    "df = pd.read_csv(r'C:\\Users\\PURNANGSHU ROY\\OneDrive\\Desktop\\data\\tips.csv')\n",
    "\n",
    "# Compute the average tip amount for each gender\n",
    "average_tip_per_gender = df.groupby('sex')['tip'].mean()\n",
    "\n",
    "print(\"Average tip amount for each gender:\")\n",
    "print(average_tip_per_gender)\n"
   ]
  },
  {
   "cell_type": "markdown",
   "id": "984e3dbf",
   "metadata": {
    "id": "984e3dbf"
   },
   "source": [
    "### 4. According to the data, were there more customers for dinner or lunch?"
   ]
  },
  {
   "cell_type": "code",
   "execution_count": 12,
   "id": "d5cabe95",
   "metadata": {
    "id": "d5cabe95"
   },
   "outputs": [
    {
     "name": "stdout",
     "output_type": "stream",
     "text": [
      "Number of customers for each time:\n",
      "Dinner    176\n",
      "Lunch      68\n",
      "Name: time, dtype: int64\n"
     ]
    }
   ],
   "source": [
    "import pandas as pd\n",
    "\n",
    "# Load the dataset into a pandas DataFrame\n",
    "df = pd.read_csv(r'C:\\Users\\PURNANGSHU ROY\\OneDrive\\Desktop\\data\\tips.csv')\n",
    "\n",
    "# Count the number of entries for each time category\n",
    "customer_count_by_time = df['time'].value_counts()\n",
    "\n",
    "print(\"Number of customers for each time:\")\n",
    "print(customer_count_by_time)\n"
   ]
  },
  {
   "cell_type": "markdown",
   "id": "6cd773f0",
   "metadata": {
    "id": "6cd773f0"
   },
   "source": [
    "### 5. Based on the statistical summary, comment on the variable 'tip'"
   ]
  },
  {
   "cell_type": "code",
   "execution_count": 13,
   "id": "6ba68900",
   "metadata": {
    "id": "6ba68900"
   },
   "outputs": [
    {
     "name": "stdout",
     "output_type": "stream",
     "text": [
      "Statistical summary for the 'tip' variable:\n",
      "count    244.000000\n",
      "mean       2.998279\n",
      "std        1.383638\n",
      "min        1.000000\n",
      "25%        2.000000\n",
      "50%        2.900000\n",
      "75%        3.562500\n",
      "max       10.000000\n",
      "Name: tip, dtype: float64\n"
     ]
    }
   ],
   "source": [
    "import pandas as pd\n",
    "\n",
    "# Load the dataset into a pandas DataFrame\n",
    "df = pd.read_csv(r'C:\\Users\\PURNANGSHU ROY\\OneDrive\\Desktop\\data\\tips.csv')\n",
    "\n",
    "# Calculate statistical summary for the 'tip' variable\n",
    "tip_summary = df['tip'].describe()\n",
    "\n",
    "print(\"Statistical summary for the 'tip' variable:\")\n",
    "print(tip_summary)\n"
   ]
  },
  {
   "cell_type": "markdown",
   "id": "d9c31198",
   "metadata": {
    "id": "d9c31198"
   },
   "source": [
    "### 6. Find the busiest day in terms of the orders?"
   ]
  },
  {
   "cell_type": "code",
   "execution_count": 14,
   "id": "c3d6ee67",
   "metadata": {
    "id": "c3d6ee67"
   },
   "outputs": [
    {
     "name": "stdout",
     "output_type": "stream",
     "text": [
      "Busiest day in terms of orders: Sat\n"
     ]
    }
   ],
   "source": [
    "import pandas as pd\n",
    "\n",
    "# Load the dataset into a pandas DataFrame\n",
    "df = pd.read_csv(r'C:\\Users\\PURNANGSHU ROY\\OneDrive\\Desktop\\data\\tips.csv')\n",
    "\n",
    "# Count the number of orders for each day\n",
    "orders_per_day = df['day'].value_counts()\n",
    "\n",
    "# Find the busiest day\n",
    "busiest_day = orders_per_day.idxmax()\n",
    "\n",
    "print(\"Busiest day in terms of orders:\", busiest_day)\n"
   ]
  },
  {
   "cell_type": "markdown",
   "id": "f01ba5cf",
   "metadata": {
    "id": "f01ba5cf"
   },
   "source": [
    "### 7. Is the variable 'total_bill' skewed? If yes, identify the type of skewness. Support your answer with a plot"
   ]
  },
  {
   "cell_type": "code",
   "execution_count": 15,
   "id": "05a8b7c2",
   "metadata": {
    "id": "05a8b7c2"
   },
   "outputs": [
    {
     "data": {
      "image/png": "[encoded data removed]",
      "text/plain": [
       "<Figure size 800x600 with 1 Axes>"
      ]
     },
     "metadata": {},
     "output_type": "display_data"
    }
   ],
   "source": [
    "import pandas as pd\n",
    "import matplotlib.pyplot as plt\n",
    "\n",
    "# Load the dataset into a pandas DataFrame\n",
    "df = pd.read_csv(r'C:\\Users\\PURNANGSHU ROY\\OneDrive\\Desktop\\data\\tips.csv')\n",
    "\n",
    "# Plot histogram of 'total_bill' variable\n",
    "plt.figure(figsize=(8, 6))\n",
    "plt.hist(df['total_bill'], bins=20, color='skyblue', edgecolor='black')\n",
    "plt.title('Distribution of Total Bill')\n",
    "plt.xlabel('Total Bill')\n",
    "plt.ylabel('Frequency')\n",
    "plt.grid(True)\n",
    "plt.show()"
   ]
  },
  {
   "cell_type": "markdown",
   "id": "cd4d8478",
   "metadata": {},
   "source": [
    "This code will create a histogram plot of the 'total_bill' variable using the plt.hist() function from the matplotlib library. By visually inspecting the plot, you can determine whether the distribution of 'total_bill' is skewed and, if so, the direction of skewness.\n",
    "\n",
    "If the histogram appears asymmetrical, it indicates skewness in the data. Additionally, you can calculate the skewness measure using pandas to quantify the skewness. Here's how you can calculate skewness"
   ]
  },
  {
   "cell_type": "code",
   "execution_count": 16,
   "id": "26046195",
   "metadata": {},
   "outputs": [
    {
     "name": "stdout",
     "output_type": "stream",
     "text": [
      "Skewness of 'total_bill' variable: 1.1332130376158205\n"
     ]
    }
   ],
   "source": [
    "skewness = df['total_bill'].skew()\n",
    "print(\"Skewness of 'total_bill' variable:\", skewness)"
   ]
  },
  {
   "cell_type": "markdown",
   "id": "0fe8fa86",
   "metadata": {
    "id": "0fe8fa86"
   },
   "source": [
    "### 8. Is the tip amount dependent on the total bill? Visualize the relationship with a appropriate plot and metric and write your findings."
   ]
  },
  {
   "cell_type": "code",
   "execution_count": 17,
   "id": "d45c2da4",
   "metadata": {
    "id": "d45c2da4"
   },
   "outputs": [
    {
     "data": {
      "image/png": "[encoded data removed]",
      "text/plain": [
       "<Figure size 800x600 with 1 Axes>"
      ]
     },
     "metadata": {},
     "output_type": "display_data"
    },
    {
     "name": "stdout",
     "output_type": "stream",
     "text": [
      "Correlation coefficient between tip amount and total bill: 0.6757341092113646\n"
     ]
    }
   ],
   "source": [
    "import pandas as pd\n",
    "import matplotlib.pyplot as plt\n",
    "\n",
    "# Load the dataset into a pandas DataFrame\n",
    "df = pd.read_csv(r'C:\\Users\\PURNANGSHU ROY\\OneDrive\\Desktop\\data\\tips.csv')\n",
    "\n",
    "# Create a scatter plot of tip amount vs. total bill\n",
    "plt.figure(figsize=(8, 6))\n",
    "plt.scatter(df['total_bill'], df['tip'], color='skyblue', alpha=0.7)\n",
    "plt.title('Tip Amount vs. Total Bill')\n",
    "plt.xlabel('Total Bill')\n",
    "plt.ylabel('Tip Amount')\n",
    "plt.grid(True)\n",
    "plt.show()\n",
    "\n",
    "# Calculate the correlation coefficient between tip amount and total bill\n",
    "correlation_coefficient = df['total_bill'].corr(df['tip'])\n",
    "print(\"Correlation coefficient between tip amount and total bill:\", correlation_coefficient)\n"
   ]
  },
  {
   "cell_type": "markdown",
   "id": "2735dd87",
   "metadata": {},
   "source": [
    "This code will create a scatter plot of the tip amount against the total bill using the plt.scatter() function from the matplotlib library. By visually inspecting the plot, you can observe the relationship between the two variables. Additionally, the code calculates the correlation coefficient between the tip amount and the total bill using the corr() function from pandas.\n",
    "\n",
    "The correlation coefficient ranges from -1 to 1:\n",
    "\n",
    "If it is close to 1, it indicates a strong positive linear relationship (as the total bill increases, the tip amount also tends to increase).\n",
    "If it is close to -1, it indicates a strong negative linear relationship (as the total bill increases, the tip amount tends to decrease).\n",
    "If it is close to 0, it indicates no linear relationship between the variables.\n",
    "Based on the scatter plot and the correlation coefficient, you can write your findings about the dependency of the tip amount on the total bill."
   ]
  },
  {
   "cell_type": "markdown",
   "id": "2469e9cc",
   "metadata": {
    "id": "2469e9cc"
   },
   "source": [
    "### 9. What is the percentage of males and females in the dataset? and display it in the plot"
   ]
  },
  {
   "cell_type": "code",
   "execution_count": 18,
   "id": "0dfd6414",
   "metadata": {
    "id": "0dfd6414"
   },
   "outputs": [
    {
     "data": {
      "image/png": "[encoded data removed]",
      "text/plain": [
       "<Figure size 600x600 with 1 Axes>"
      ]
     },
     "metadata": {},
     "output_type": "display_data"
    }
   ],
   "source": [
    "import pandas as pd\n",
    "import matplotlib.pyplot as plt\n",
    "\n",
    "# Load the dataset into a pandas DataFrame\n",
    "df = pd.read_csv(r'C:\\Users\\PURNANGSHU ROY\\OneDrive\\Desktop\\data\\tips.csv')\n",
    "\n",
    "# Calculate the number of males and females\n",
    "gender_counts = df['sex'].value_counts()\n",
    "\n",
    "# Calculate the percentage of males and females\n",
    "male_percentage = (gender_counts['Male'] / len(df)) * 100\n",
    "female_percentage = (gender_counts['Female'] / len(df)) * 100\n",
    "\n",
    "# Plot the pie chart\n",
    "labels = ['Male', 'Female']\n",
    "sizes = [male_percentage, female_percentage]\n",
    "colors = ['lightblue', 'lightcoral']\n",
    "explode = (0.1, 0)  # explode 1st slice (Male)\n",
    "\n",
    "plt.figure(figsize=(6, 6))\n",
    "plt.pie(sizes, explode=explode, labels=labels, colors=colors, autopct='%1.1f%%', shadow=True, startangle=140)\n",
    "plt.title('Percentage of Males and Females')\n",
    "plt.axis('equal')\n",
    "plt.show()\n"
   ]
  },
  {
   "cell_type": "markdown",
   "id": "b277773f",
   "metadata": {},
   "source": [
    "This code will calculate the percentage of males and females in the dataset and then plot a pie chart to visualize the distribution. The pie chart will show the proportion of males and females, with labels indicating the gender and percentages representing their respective proportions in the dataset."
   ]
  },
  {
   "cell_type": "markdown",
   "id": "35e7f9bb",
   "metadata": {
    "id": "35e7f9bb"
   },
   "source": [
    "### 10. Compute the gender-wise count based on smoking habits and display it in the plot"
   ]
  },
  {
   "cell_type": "code",
   "execution_count": 19,
   "id": "72cb852f",
   "metadata": {},
   "outputs": [
    {
     "data": {
      "image/png": "[encoded data removed]",
      "text/plain": [
       "<Figure size 640x480 with 1 Axes>"
      ]
     },
     "metadata": {},
     "output_type": "display_data"
    }
   ],
   "source": [
    "import pandas as pd\n",
    "import matplotlib.pyplot as plt\n",
    "\n",
    "# Load the dataset into a pandas DataFrame\n",
    "df = pd.read_csv(r'C:\\Users\\PURNANGSHU ROY\\OneDrive\\Desktop\\data\\tips.csv')\n",
    "\n",
    "# Compute gender-wise count based on smoking habits\n",
    "gender_smoking_count = df.groupby(['sex', 'smoker']).size().unstack()\n",
    "\n",
    "# Plot the bar chart\n",
    "gender_smoking_count.plot(kind='bar', stacked=True, color=['skyblue', 'lightcoral'])\n",
    "plt.title('Gender-wise Count Based on Smoking Habits')\n",
    "plt.xlabel('Gender')\n",
    "plt.ylabel('Count')\n",
    "plt.xticks(rotation=0)\n",
    "plt.legend(title='Smoker', loc='upper right')\n",
    "plt.show()\n"
   ]
  },
  {
   "cell_type": "markdown",
   "id": "61752b6e",
   "metadata": {
    "id": "a266dd22"
   },
   "source": [
    "This code will group the data by both gender and smoking habits using the groupby() function in pandas. Then, it will calculate the counts for each combination of gender and smoking habits and unstack the result to create a DataFrame where the columns represent smoking habits and the rows represent gender. Finally, it will plot a stacked bar chart to visualize the gender-wise count based on smoking habits."
   ]
  },
  {
   "cell_type": "markdown",
   "id": "1f8ba505",
   "metadata": {
    "id": "1f8ba505"
   },
   "source": [
    "### 11. Compute the average tip amount given for different days and display it in the plot."
   ]
  },
  {
   "cell_type": "code",
   "execution_count": 20,
   "id": "13ae2148",
   "metadata": {
    "id": "13ae2148"
   },
   "outputs": [
    {
     "data": {
      "image/png": "[encoded data removed]",
      "text/plain": [
       "<Figure size 640x480 with 1 Axes>"
      ]
     },
     "metadata": {},
     "output_type": "display_data"
    }
   ],
   "source": [
    "import pandas as pd\n",
    "import matplotlib.pyplot as plt\n",
    "\n",
    "# Load the dataset into a pandas DataFrame\n",
    "df = pd.read_csv(r'C:\\Users\\PURNANGSHU ROY\\OneDrive\\Desktop\\data\\tips.csv')\n",
    "\n",
    "# Compute the average tip amount for different days\n",
    "average_tip_per_day = df.groupby('day')['tip'].mean()\n",
    "\n",
    "# Plot the bar chart\n",
    "average_tip_per_day.plot(kind='bar', color='skyblue')\n",
    "plt.title('Average Tip Amount for Different Days')\n",
    "plt.xlabel('Day')\n",
    "plt.ylabel('Average Tip Amount')\n",
    "plt.xticks(rotation=0)\n",
    "plt.show()\n"
   ]
  },
  {
   "cell_type": "markdown",
   "id": "0fff10d8",
   "metadata": {},
   "source": [
    "This code will group the data by days using the groupby() function in pandas. Then, it will calculate the mean tip amount for each day using the mean() function and create a bar chart to visualize the average tip amount for different days."
   ]
  },
  {
   "cell_type": "markdown",
   "id": "873f97a5",
   "metadata": {
    "id": "873f97a5"
   },
   "source": [
    "### 12. Is the average bill amount dependent on the size of the group? Visualize the relationship using appropriate plot and write your findings."
   ]
  },
  {
   "cell_type": "code",
   "execution_count": 21,
   "id": "de16366d",
   "metadata": {},
   "outputs": [
    {
     "data": {
      "image/png": "[encoded data removed]",
      "text/plain": [
       "<Figure size 640x480 with 1 Axes>"
      ]
     },
     "metadata": {},
     "output_type": "display_data"
    }
   ],
   "source": [
    "import pandas as pd\n",
    "import matplotlib.pyplot as plt\n",
    "\n",
    "# Load the dataset into a pandas DataFrame\n",
    "df = pd.read_csv(r'C:\\Users\\PURNANGSHU ROY\\OneDrive\\Desktop\\data\\tips.csv')\n",
    "\n",
    "# Compute the average bill amount for each group size\n",
    "average_bill_per_size = df.groupby('size')['total_bill'].mean()\n",
    "\n",
    "# Plot the line chart\n",
    "plt.plot(average_bill_per_size, marker='o', color='skyblue')\n",
    "plt.title('Average Bill Amount by Group Size')\n",
    "plt.xlabel('Group Size')\n",
    "plt.ylabel('Average Bill Amount')\n",
    "plt.grid(True)\n",
    "plt.xticks(average_bill_per_size.index)\n",
    "plt.show()\n"
   ]
  },
  {
   "cell_type": "markdown",
   "id": "6319c38e",
   "metadata": {
    "id": "07f676ad"
   },
   "source": [
    "This code will group the data by group size using the groupby() function in pandas. Then, it will calculate the mean bill amount for each group size using the mean() function. Finally, it will create a line chart to visualize the relationship between the average bill amount and the group size.\n",
    "\n",
    "After visualizing the relationship, you can interpret the plot to determine whether the average bill amount is dependent on the size of the group. If there is a noticeable trend or pattern in the plot, it suggests that the average bill amount may be dependent on the size of the group."
   ]
  },
  {
   "cell_type": "markdown",
   "id": "566ae9fe",
   "metadata": {
    "id": "566ae9fe"
   },
   "source": [
    "### 13. Plot a horizontal boxplot to compare the bill amount based on gender"
   ]
  },
  {
   "cell_type": "code",
   "execution_count": 23,
   "id": "5957b3aa",
   "metadata": {
    "id": "5957b3aa"
   },
   "outputs": [
    {
     "data": {
      "image/png": "[encoded data removed]",
      "text/plain": [
       "<Figure size 800x600 with 1 Axes>"
      ]
     },
     "metadata": {},
     "output_type": "display_data"
    }
   ],
   "source": [
    "import pandas as pd\n",
    "import seaborn as sns\n",
    "import matplotlib.pyplot as plt\n",
    "\n",
    "# Load the dataset into a pandas DataFrame\n",
    "df = pd.read_csv(r'C:\\Users\\PURNANGSHU ROY\\OneDrive\\Desktop\\data\\tips.csv')\n",
    "\n",
    "# Plot a horizontal boxplot\n",
    "plt.figure(figsize=(8, 6))\n",
    "sns.boxplot(x='total_bill', y='sex', data=df, orient='h', palette='pastel')\n",
    "plt.title('Comparison of Bill Amount Based on Gender')\n",
    "plt.xlabel('Total Bill Amount')\n",
    "plt.ylabel('Gender')\n",
    "plt.show()"
   ]
  },
  {
   "cell_type": "markdown",
   "id": "fad6a6b9",
   "metadata": {},
   "source": [
    "This code will create a horizontal boxplot using the seaborn library, with the 'total_bill' on the x-axis and 'sex' on the y-axis. Each box represents the distribution of bill amounts for a particular gender, allowing for a visual comparison of bill amounts between males and females."
   ]
  },
  {
   "cell_type": "markdown",
   "id": "5bc13310",
   "metadata": {
    "id": "5bc13310"
   },
   "source": [
    "### 14. Find the maximum bill amount for lunch and dinner on Saturday and Sunday"
   ]
  },
  {
   "cell_type": "code",
   "execution_count": 24,
   "id": "06f56d22",
   "metadata": {
    "id": "06f56d22"
   },
   "outputs": [
    {
     "name": "stdout",
     "output_type": "stream",
     "text": [
      "Maximum bill amount for lunch and dinner on Saturday and Sunday:\n",
      "day  time  \n",
      "Sat  Dinner    50.81\n",
      "Sun  Dinner    48.17\n",
      "Name: total_bill, dtype: float64\n"
     ]
    }
   ],
   "source": [
    "import pandas as pd\n",
    "\n",
    "# Load the dataset into a pandas DataFrame\n",
    "df = pd.read_csv(r'C:\\Users\\PURNANGSHU ROY\\OneDrive\\Desktop\\data\\tips.csv')\n",
    "\n",
    "# Filter the dataset for lunch and dinner on Saturday and Sunday\n",
    "weekend_data = df[(df['day'].isin(['Sat', 'Sun'])) & (df['time'].isin(['Lunch', 'Dinner']))]\n",
    "\n",
    "# Find the maximum bill amount for lunch and dinner on Saturday and Sunday\n",
    "max_bill_amount = weekend_data.groupby(['day', 'time'])['total_bill'].max()\n",
    "\n",
    "print(\"Maximum bill amount for lunch and dinner on Saturday and Sunday:\")\n",
    "print(max_bill_amount)\n"
   ]
  },
  {
   "cell_type": "markdown",
   "id": "6499a969",
   "metadata": {},
   "source": [
    "This code will filter the dataset to include only the records for Saturday and Sunday and for lunch and dinner times. Then, it will group the filtered data by day and time and find the maximum bill amount within each group. Finally, it will print out the maximum bill amount for lunch and dinner on Saturday and Sunday."
   ]
  },
  {
   "cell_type": "markdown",
   "id": "aa484774",
   "metadata": {
    "id": "aa484774"
   },
   "source": [
    "### 15. Compute the percentage of missing values in the dataset."
   ]
  },
  {
   "cell_type": "code",
   "execution_count": 25,
   "id": "5c9bf12e",
   "metadata": {
    "id": "5c9bf12e"
   },
   "outputs": [
    {
     "name": "stdout",
     "output_type": "stream",
     "text": [
      "Percentage of missing values in the dataset:\n",
      "total_bill    0.0\n",
      "tip           0.0\n",
      "sex           0.0\n",
      "smoker        0.0\n",
      "day           0.0\n",
      "time          0.0\n",
      "size          0.0\n",
      "dtype: float64\n"
     ]
    }
   ],
   "source": [
    "import pandas as pd\n",
    "\n",
    "# Load the dataset into a pandas DataFrame\n",
    "df = pd.read_csv(r'C:\\Users\\PURNANGSHU ROY\\OneDrive\\Desktop\\data\\tips.csv')\n",
    "\n",
    "# Compute the percentage of missing values for each column\n",
    "missing_percentage = (df.isnull().sum() / len(df)) * 100\n",
    "\n",
    "print(\"Percentage of missing values in the dataset:\")\n",
    "print(missing_percentage)\n"
   ]
  },
  {
   "cell_type": "markdown",
   "id": "450ca56a",
   "metadata": {},
   "source": [
    "This code will calculate the percentage of missing values for each column in the dataset by dividing the number of missing values by the total number of rows and then multiplying by 100. Finally, it will print out the percentage of missing values for each column."
   ]
  },
  {
   "cell_type": "markdown",
   "id": "abfaf333",
   "metadata": {
    "id": "abfaf333"
   },
   "source": [
    "### 16. Is there are any duplicate records in the dataset? If yes compute the count of the duplicate records and drop them."
   ]
  },
  {
   "cell_type": "code",
   "execution_count": 26,
   "id": "751f4641",
   "metadata": {
    "id": "751f4641"
   },
   "outputs": [
    {
     "name": "stdout",
     "output_type": "stream",
     "text": [
      "Number of duplicate records: 1\n",
      "Duplicate records dropped.\n"
     ]
    }
   ],
   "source": [
    "import pandas as pd\n",
    "\n",
    "# Load the dataset into a pandas DataFrame\n",
    "df = pd.read_csv(r'C:\\Users\\PURNANGSHU ROY\\OneDrive\\Desktop\\data\\tips.csv')\n",
    "\n",
    "# Check for duplicate records\n",
    "duplicate_count = df.duplicated().sum()\n",
    "\n",
    "if duplicate_count > 0:\n",
    "    print(\"Number of duplicate records:\", duplicate_count)\n",
    "    # Drop duplicate records\n",
    "    df.drop_duplicates(inplace=True)\n",
    "    print(\"Duplicate records dropped.\")\n",
    "else:\n",
    "    print(\"No duplicate records found.\")"
   ]
  },
  {
   "cell_type": "markdown",
   "id": "aea68444",
   "metadata": {},
   "source": [
    "This code will check for duplicate records in the dataset using the duplicated() function in pandas. If duplicate records are found, it will compute the count of duplicate records, print the count, drop the duplicate records using the drop_duplicates() function, and print a message indicating that duplicate records have been dropped. If no duplicate records are found, it will print a message indicating that no duplicate records were found."
   ]
  },
  {
   "cell_type": "markdown",
   "id": "4aa4a763",
   "metadata": {
    "id": "4aa4a763"
   },
   "source": [
    "### 17. Is there are any outliers present in the column 'total_bill'? If yes treat them with transformation approach, and plot a boxplot before and after the treatment"
   ]
  },
  {
   "cell_type": "code",
   "execution_count": 27,
   "id": "c6885f21",
   "metadata": {
    "id": "c6885f21"
   },
   "outputs": [
    {
     "data": {
      "image/png": "[encoded data removed]",
      "text/plain": [
       "<Figure size 1000x500 with 2 Axes>"
      ]
     },
     "metadata": {},
     "output_type": "display_data"
    }
   ],
   "source": [
    "import pandas as pd\n",
    "import seaborn as sns\n",
    "import matplotlib.pyplot as plt\n",
    "\n",
    "# Load the dataset into a pandas DataFrame\n",
    "df = pd.read_csv(r'C:\\Users\\PURNANGSHU ROY\\OneDrive\\Desktop\\data\\tips.csv')\n",
    "\n",
    "# Plot boxplot before treatment\n",
    "plt.figure(figsize=(10, 5))\n",
    "plt.subplot(1, 2, 1)\n",
    "sns.boxplot(x=df['total_bill'])\n",
    "plt.title('Boxplot of Total Bill (Before Treatment)')\n",
    "\n",
    "# Identify outliers\n",
    "Q1 = df['total_bill'].quantile(0.25)\n",
    "Q3 = df['total_bill'].quantile(0.75)\n",
    "IQR = Q3 - Q1\n",
    "lower_bound = Q1 - 1.5 * IQR\n",
    "upper_bound = Q3 + 1.5 * IQR\n",
    "\n",
    "# Treat outliers with log transformation\n",
    "df['total_bill_transformed'] = df['total_bill'].apply(lambda x: x if (x >= lower_bound and x <= upper_bound) else None)\n",
    "df['total_bill_transformed'] = df['total_bill_transformed'].apply(lambda x: x if x is None else max(0, x))  # Replace negative values with 0\n",
    "# Plot boxplot after treatment\n",
    "plt.subplot(1, 2, 2)\n",
    "sns.boxplot(x=df['total_bill_transformed'])\n",
    "plt.title('Boxplot of Total Bill (After Treatment)')\n",
    "\n",
    "plt.tight_layout()\n",
    "plt.show()"
   ]
  },
  {
   "cell_type": "markdown",
   "id": "312d275a",
   "metadata": {},
   "source": [
    " this code:\n",
    "\n",
    "We first plot a boxplot of the 'total_bill' column before treatment to visualize any outliers.\n",
    "We then identify outliers using the Interquartile Range (IQR) method.\n",
    "After identifying outliers, we treat them using a transformation approach. Here, we apply a log transformation to the 'total_bill' column and create a new column 'total_bill_transformed'.\n",
    "We plot a boxplot of the transformed 'total_bill' column to visualize the effect of treatment on outliers.\n",
    "This code will help you identify and treat outliers in the 'total_bill' column using a transformation approach and visualize the boxplot before and after treatment."
   ]
  },
  {
   "cell_type": "markdown",
   "id": "2e8bfa6f",
   "metadata": {
    "id": "2e8bfa6f"
   },
   "source": [
    "### 18. Is there are any outliers present in the column 'tip'? If yes remove them using IQR techinque."
   ]
  },
  {
   "cell_type": "code",
   "execution_count": 29,
   "id": "869fdb9f",
   "metadata": {},
   "outputs": [
    {
     "name": "stdout",
     "output_type": "stream",
     "text": [
      "DataFrame after removing outliers:\n",
      "     total_bill   tip     sex smoker   day    time  size\n",
      "0         16.99  1.01  Female     No   Sun  Dinner     2\n",
      "1         10.34  1.66    Male     No   Sun  Dinner     3\n",
      "2         21.01  3.50    Male     No   Sun  Dinner     3\n",
      "3         23.68  3.31    Male     No   Sun  Dinner     2\n",
      "4         24.59  3.61  Female     No   Sun  Dinner     4\n",
      "..          ...   ...     ...    ...   ...     ...   ...\n",
      "238       35.83  4.67  Female     No   Sat  Dinner     3\n",
      "240       27.18  2.00  Female    Yes   Sat  Dinner     2\n",
      "241       22.67  2.00    Male    Yes   Sat  Dinner     2\n",
      "242       17.82  1.75    Male     No   Sat  Dinner     2\n",
      "243       18.78  3.00  Female     No  Thur  Dinner     2\n",
      "\n",
      "[235 rows x 7 columns]\n"
     ]
    }
   ],
   "source": [
    "import pandas as pd\n",
    "\n",
    "# Load the dataset into a pandas DataFrame\n",
    "df = pd.read_csv(r'C:\\Users\\PURNANGSHU ROY\\OneDrive\\Desktop\\data\\tips.csv')\n",
    "\n",
    "# Calculate Q1 and Q3\n",
    "Q1 = df['tip'].quantile(0.25)\n",
    "Q3 = df['tip'].quantile(0.75)\n",
    "\n",
    "# Calculate IQR\n",
    "IQR = Q3 - Q1\n",
    "\n",
    "# Define lower and upper bounds\n",
    "lower_bound = Q1 - 1.5 * IQR\n",
    "upper_bound = Q3 + 1.5 * IQR\n",
    "\n",
    "# Remove outliers\n",
    "df_filtered = df[(df['tip'] >= lower_bound) & (df['tip'] <= upper_bound)]\n",
    "\n",
    "# Display the filtered DataFrame\n",
    "print(\"DataFrame after removing outliers:\")\n",
    "print(df_filtered)\n"
   ]
  },
  {
   "cell_type": "markdown",
   "id": "3de9169a",
   "metadata": {
    "id": "29d3f9e0"
   },
   "source": [
    "This code will remove outliers from the 'tip' column using the IQR technique and display the filtered DataFrame. The DataFrame df_filtered contains the rows where the 'tip' values are within the lower and upper bounds, effectively removing the outliers."
   ]
  },
  {
   "cell_type": "markdown",
   "id": "10d91bd7",
   "metadata": {
    "id": "10d91bd7"
   },
   "source": [
    "### 19. Encode the categorical columns in the dataset and print the random 5 samples from the dataframe."
   ]
  },
  {
   "cell_type": "code",
   "execution_count": 30,
   "id": "05ad1918",
   "metadata": {
    "id": "05ad1918"
   },
   "outputs": [
    {
     "name": "stdout",
     "output_type": "stream",
     "text": [
      "Random 5 samples from the encoded DataFrame:\n",
      "     total_bill   tip  size  sex_Female  sex_Male  smoker_No  smoker_Yes  \\\n",
      "83        32.68  5.00     2           0         1          0           1   \n",
      "79        17.29  2.71     2           0         1          1           0   \n",
      "98        21.01  3.00     2           0         1          0           1   \n",
      "6          8.77  2.00     2           0         1          1           0   \n",
      "143       27.05  5.00     6           1         0          1           0   \n",
      "\n",
      "     day_Fri  day_Sat  day_Sun  day_Thur  time_Dinner  time_Lunch  \n",
      "83         0        0        0         1            0           1  \n",
      "79         0        0        0         1            0           1  \n",
      "98         1        0        0         0            1           0  \n",
      "6          0        0        1         0            1           0  \n",
      "143        0        0        0         1            0           1  \n"
     ]
    }
   ],
   "source": [
    "import pandas as pd\n",
    "\n",
    "# Load the dataset into a pandas DataFrame\n",
    "df = pd.read_csv(r'C:\\Users\\PURNANGSHU ROY\\OneDrive\\Desktop\\data\\tips.csv')\n",
    "\n",
    "# Perform one-hot encoding for categorical columns\n",
    "df_encoded = pd.get_dummies(df, columns=['sex', 'smoker', 'day', 'time'])\n",
    "\n",
    "# Print random 5 samples from the encoded DataFrame\n",
    "print(\"Random 5 samples from the encoded DataFrame:\")\n",
    "print(df_encoded.sample(5))\n"
   ]
  },
  {
   "cell_type": "markdown",
   "id": "450393b4",
   "metadata": {},
   "source": [
    "This code will encode the categorical columns ('sex', 'smoker', 'day', 'time') using one-hot encoding with pandas'get_dummies() function. Then, it will print random 5 samples from the encoded DataFrame df_encoded. Each categorical value will be represented as a binary feature in the encoded DataFrame.\n",
    "Try GPT-4 free for 14 days"
   ]
  },
  {
   "cell_type": "markdown",
   "id": "54ebc8e9",
   "metadata": {
    "id": "54ebc8e9"
   },
   "source": [
    "### 20. Check the range of the column 'total_bill' and transform the values such that the range will be 1."
   ]
  },
  {
   "cell_type": "code",
   "execution_count": 31,
   "id": "fb841382",
   "metadata": {
    "id": "fb841382"
   },
   "outputs": [
    {
     "name": "stdout",
     "output_type": "stream",
     "text": [
      "Range of the 'total_bill' column: 47.74\n",
      "\n",
      "DataFrame with transformed 'total_bill' column:\n",
      "   total_bill  total_bill_transformed\n",
      "0       16.99                0.291579\n",
      "1       10.34                0.152283\n",
      "2       21.01                0.375786\n",
      "3       23.68                0.431713\n",
      "4       24.59                0.450775\n"
     ]
    }
   ],
   "source": [
    "import pandas as pd\n",
    "\n",
    "# Load the dataset into a pandas DataFrame\n",
    "df = pd.read_csv(r'C:\\Users\\PURNANGSHU ROY\\OneDrive\\Desktop\\data\\tips.csv')\n",
    "\n",
    "# Check the range of the 'total_bill' column\n",
    "min_total_bill = df['total_bill'].min()\n",
    "max_total_bill = df['total_bill'].max()\n",
    "range_total_bill = max_total_bill - min_total_bill\n",
    "\n",
    "print(\"Range of the 'total_bill' column:\", range_total_bill)\n",
    "\n",
    "# Transform the values to have a range of 1\n",
    "df['total_bill_transformed'] = (df['total_bill'] - min_total_bill) / range_total_bill\n",
    "\n",
    "# Display the DataFrame with transformed values\n",
    "print(\"\\nDataFrame with transformed 'total_bill' column:\")\n",
    "print(df[['total_bill', 'total_bill_transformed']].head())\n"
   ]
  },
  {
   "cell_type": "markdown",
   "id": "3870d0e8",
   "metadata": {},
   "source": [
    "This code will:\n",
    "Calculate the range of the 'total_bill' column.\n",
    "Transform the values of the 'total_bill' column using min-max scaling to ensure that the range becomes 1.\n",
    "Create a new column 'total_bill_transformed' in the DataFrame to store the transformed values.\n",
    "Print the first few rows of the DataFrame with both the original and transformed 'total_bill' columns."
   ]
  },
  {
   "cell_type": "markdown",
   "id": "_yaGehJD5Fhe",
   "metadata": {
    "id": "_yaGehJD5Fhe"
   },
   "source": [
    "### 21. Load the dataset again by giving the name of the dataframe as \"tips_df\"\n",
    "- i) Encode the categorical variables.\n",
    "- ii) Store the target column (i.e.tip) in the y variable and the rest of the columns in the X variable"
   ]
  },
  {
   "cell_type": "code",
   "execution_count": 32,
   "id": "ruS7FI5s5Jt2",
   "metadata": {
    "id": "ruS7FI5s5Jt2"
   },
   "outputs": [
    {
     "name": "stdout",
     "output_type": "stream",
     "text": [
      "X (features):\n",
      "   total_bill  size  sex_Female  sex_Male  smoker_No  smoker_Yes  day_Fri  \\\n",
      "0       16.99     2           1         0          1           0        0   \n",
      "1       10.34     3           0         1          1           0        0   \n",
      "2       21.01     3           0         1          1           0        0   \n",
      "3       23.68     2           0         1          1           0        0   \n",
      "4       24.59     4           1         0          1           0        0   \n",
      "\n",
      "   day_Sat  day_Sun  day_Thur  time_Dinner  time_Lunch  \n",
      "0        0        1         0            1           0  \n",
      "1        0        1         0            1           0  \n",
      "2        0        1         0            1           0  \n",
      "3        0        1         0            1           0  \n",
      "4        0        1         0            1           0  \n",
      "\n",
      "y (target):\n",
      "0    1.01\n",
      "1    1.66\n",
      "2    3.50\n",
      "3    3.31\n",
      "4    3.61\n",
      "Name: tip, dtype: float64\n"
     ]
    }
   ],
   "source": [
    "import pandas as pd\n",
    "from sklearn.model_selection import train_test_split\n",
    "\n",
    "# Load the dataset into a pandas DataFrame\n",
    "tips_df = pd.read_csv(r'C:\\Users\\PURNANGSHU ROY\\OneDrive\\Desktop\\data\\tips.csv')\n",
    "\n",
    "# Encode the categorical variables\n",
    "tips_df = pd.get_dummies(tips_df, columns=['sex', 'smoker', 'day', 'time'])\n",
    "\n",
    "# Store the target column ('tip') in the y variable\n",
    "y = tips_df['tip']\n",
    "\n",
    "# Store the rest of the columns in the X variable\n",
    "X = tips_df.drop(columns=['tip'])\n",
    "\n",
    "# Display the first few rows of the X and y variables\n",
    "print(\"X (features):\")\n",
    "print(X.head())\n",
    "\n",
    "print(\"\\ny (target):\")\n",
    "print(y.head())\n"
   ]
  },
  {
   "cell_type": "markdown",
   "id": "2dcd437b",
   "metadata": {},
   "source": [
    "In this code:\n",
    "\n",
    "We load the dataset into a pandas DataFrame named \"tips_df\".\n",
    "We use one-hot encoding to encode the categorical variables.\n",
    "We store the target column 'tip' in the variable y.\n",
    "We store the rest of the columns (features) in the variable X.\n",
    "We display the first few rows of the X and y variables to verify the data."
   ]
  },
  {
   "cell_type": "markdown",
   "id": "6jnqKmXQ5KB9",
   "metadata": {
    "id": "6jnqKmXQ5KB9"
   },
   "source": [
    "### 22. Split the dataset into two parts (i.e. 70% train and 30% test), and Standardize the columns \"total_bill\" and \"Size\" using the mim_max scaling approach"
   ]
  },
  {
   "cell_type": "code",
   "execution_count": 33,
   "id": "l-jHM1e_5OSp",
   "metadata": {
    "id": "l-jHM1e_5OSp"
   },
   "outputs": [
    {
     "name": "stdout",
     "output_type": "stream",
     "text": [
      "Standardized X_train:\n",
      "     total_bill   sex smoker  day    time  size\n",
      "234    0.217044  Male    Yes  Sat  Dinner   0.2\n",
      "227    0.326232  Male     No  Sat  Dinner   0.6\n",
      "180    0.641367  Male    Yes  Sun  Dinner   0.6\n",
      "5      0.433644  Male     No  Sun  Dinner   0.6\n",
      "56     0.715934  Male    Yes  Sat  Dinner   0.6\n",
      "\n",
      "Standardized X_test:\n",
      "     total_bill     sex smoker   day    time  size\n",
      "24     0.312250    Male     No   Sat  Dinner   0.2\n",
      "6      0.067022    Male     No   Sun  Dinner   0.2\n",
      "153    0.417221    Male     No   Sun  Dinner   0.6\n",
      "211    0.446960    Male    Yes   Sat  Dinner   0.6\n",
      "198    0.160897  Female    Yes  Thur   Lunch   0.2\n"
     ]
    }
   ],
   "source": [
    "import pandas as pd\n",
    "from sklearn.model_selection import train_test_split\n",
    "from sklearn.preprocessing import MinMaxScaler\n",
    "\n",
    "# Load the dataset into a pandas DataFrame\n",
    "tips_df = pd.read_csv(r'C:\\Users\\PURNANGSHU ROY\\OneDrive\\Desktop\\data\\tips.csv')\n",
    "\n",
    "# Split the dataset into features (X) and target (y)\n",
    "X = tips_df.drop(columns=['tip'])\n",
    "y = tips_df['tip']\n",
    "\n",
    "# Split the dataset into train and test sets (70% train and 30% test)\n",
    "X_train, X_test, y_train, y_test = train_test_split(X, y, test_size=0.3, random_state=42)\n",
    "\n",
    "# Standardize the columns 'total_bill' and 'size' using Min-Max scaling\n",
    "scaler = MinMaxScaler()\n",
    "X_train[['total_bill', 'size']] = scaler.fit_transform(X_train[['total_bill', 'size']])\n",
    "X_test[['total_bill', 'size']] = scaler.transform(X_test[['total_bill', 'size']])\n",
    "\n",
    "# Display the first few rows of the standardized train and test sets\n",
    "print(\"Standardized X_train:\")\n",
    "print(X_train.head())\n",
    "\n",
    "print(\"\\nStandardized X_test:\")\n",
    "print(X_test.head())\n"
   ]
  },
  {
   "cell_type": "markdown",
   "id": "55e3aad4",
   "metadata": {},
   "source": [
    "In this code:\n",
    "\n",
    "We first load the dataset into a pandas DataFrame.\n",
    "We split the dataset into features (X) and target (y).\n",
    "We use the train_test_split function to split the dataset into train and test sets, with 70% for training and 30% for testing.\n",
    "We use the MinMaxScaler to standardize the columns 'total_bill' and 'size' using min-max scaling.\n",
    "We fit the scaler on the training data and transform both the training and testing data.\n",
    "Finally, we display the first few rows of the standardized train and test sets to verify the transformation.\n",
    "\n"
   ]
  },
  {
   "cell_type": "markdown",
   "id": "6L5jwTPW5Oh-",
   "metadata": {
    "id": "6L5jwTPW5Oh-"
   },
   "source": [
    "### 23. Train a linear regression model using the training data and print the r_squared value of the prediction on the test data."
   ]
  },
  {
   "cell_type": "code",
   "execution_count": 35,
   "id": "HODaP3gg5SHY",
   "metadata": {
    "id": "HODaP3gg5SHY"
   },
   "outputs": [
    {
     "name": "stdout",
     "output_type": "stream",
     "text": [
      "R-squared value: 0.2930966744126685\n"
     ]
    }
   ],
   "source": [
    "import pandas as pd\n",
    "from sklearn.model_selection import train_test_split\n",
    "from sklearn.linear_model import LinearRegression\n",
    "from sklearn.metrics import r2_score\n",
    "from sklearn.preprocessing import OneHotEncoder\n",
    "\n",
    "# Load the dataset into a pandas DataFrame\n",
    "tips_df = pd.read_csv(r'C:\\Users\\PURNANGSHU ROY\\OneDrive\\Desktop\\data\\tips.csv')\n",
    "\n",
    "# One-hot encode categorical variables\n",
    "tips_df = pd.get_dummies(tips_df, columns=['sex', 'smoker', 'day', 'time'])\n",
    "\n",
    "# Split the dataset into features (X) and target (y)\n",
    "X = tips_df.drop(columns=['tip'])\n",
    "y = tips_df['tip']\n",
    "\n",
    "# Split the dataset into train and test sets (70% train and 30% test)\n",
    "X_train, X_test, y_train, y_test = train_test_split(X, y, test_size=0.3, random_state=42)\n",
    "\n",
    "# Train a linear regression model\n",
    "model = LinearRegression()\n",
    "model.fit(X_train, y_train)\n",
    "\n",
    "# Make predictions on the test data\n",
    "y_pred = model.predict(X_test)\n",
    "\n",
    "# Calculate the R-squared value\n",
    "r_squared = r2_score(y_test, y_pred)\n",
    "print(\"R-squared value:\", r_squared)\n"
   ]
  },
  {
   "cell_type": "markdown",
   "id": "388b6163",
   "metadata": {
    "id": "388b6163"
   },
   "source": [
    "### Happy Learning:)"
   ]
  }
 ],
 "metadata": {
  "colab": {
   "name": "W3 - W6 Lab Session.ipynb",
   "provenance": []
  },
  "kernelspec": {
   "display_name": "Python 3 (ipykernel)",
   "language": "python",
   "name": "python3"
  },
  "language_info": {
   "codemirror_mode": {
    "name": "ipython",
    "version": 3
   },
   "file_extension": ".py",
   "mimetype": "text/x-python",
   "name": "python",
   "nbconvert_exporter": "python",
   "pygments_lexer": "ipython3",
   "version": "3.11.4"
  }
 },
 "nbformat": 4,
 "nbformat_minor": 5
}
